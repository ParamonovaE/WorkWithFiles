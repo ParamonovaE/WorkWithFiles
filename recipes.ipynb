{
 "cells": [
  {
   "cell_type": "code",
   "execution_count": 1,
   "metadata": {},
   "outputs": [
    {
     "name": "stdout",
     "output_type": "stream",
     "text": [
      "{'Омлет': [{'ingredient_name': 'Яйцо', 'quantity': '2', 'measure': 'шт'}, {'ingredient_name': 'Молоко', 'quantity': '100', 'measure': 'мл'}, {'ingredient_name': 'Помидор', 'quantity': '2', 'measure': 'шт'}], 'Утка по-пекински': [{'ingredient_name': 'Утка', 'quantity': '1', 'measure': 'шт'}, {'ingredient_name': 'Вода', 'quantity': '2', 'measure': 'л'}, {'ingredient_name': 'Мед', 'quantity': '3', 'measure': 'ст.л'}, {'ingredient_name': 'Соевый соус', 'quantity': '60', 'measure': 'мл'}], 'Запеченный картофель': [{'ingredient_name': 'Картофель', 'quantity': '1', 'measure': 'кг'}, {'ingredient_name': 'Чеснок', 'quantity': '3', 'measure': 'зубч'}, {'ingredient_name': 'Сыр гауда', 'quantity': '100', 'measure': 'г'}], 'Фахитос': [{'ingredient_name': 'Говядина', 'quantity': '500', 'measure': 'г'}, {'ingredient_name': 'Перец сладкий', 'quantity': '1', 'measure': 'шт'}, {'ingredient_name': 'Лаваш', 'quantity': '2', 'measure': 'шт'}, {'ingredient_name': 'Винный уксус', 'quantity': '1', 'measure': 'ст.л'}, {'ingredient_name': 'Помидор', 'quantity': '2', 'measure': 'шт'}]}\n"
     ]
    }
   ],
   "source": [
    "with open(\"recipes.txt\", encoding = \"UTF-8\") as f:\n",
    "    cook_book = {}\n",
    "    for line in f:\n",
    "        name = line.strip()\n",
    "        count_of_ingredients = f.readline()\n",
    "        recipe = []\n",
    "        for i in range(int(count_of_ingredients)):\n",
    "            ingredient = f.readline()\n",
    "            x1, x2, x3 = ingredient.strip().split(' | ')\n",
    "            recipe.append({'ingredient_name': x1, 'quantity': x2, 'measure': x3})\n",
    "        cook_book[name] = recipe \n",
    "        f.readline() \n",
    "print(cook_book)"
   ]
  },
  {
   "cell_type": "code",
   "execution_count": 63,
   "metadata": {},
   "outputs": [
    {
     "data": {
      "text/plain": [
       "{'Яйцо': {'measure': 'шт', 'quantity': 4},\n",
       " 'Молоко': {'measure': 'мл', 'quantity': 200},\n",
       " 'Помидор': {'measure': 'шт', 'quantity': 8},\n",
       " 'Говядина': {'measure': 'г', 'quantity': 1000},\n",
       " 'Перец сладкий': {'measure': 'шт', 'quantity': 2},\n",
       " 'Лаваш': {'measure': 'шт', 'quantity': 4},\n",
       " 'Винный уксус': {'measure': 'ст.л', 'quantity': 2}}"
      ]
     },
     "execution_count": 63,
     "metadata": {},
     "output_type": "execute_result"
    }
   ],
   "source": [
    "with open(\"recipes.txt\", encoding = \"UTF-8\") as f:\n",
    "    def get_shop_list_by_dishes(dishes, person_count):\n",
    "        recipe = {}\n",
    "        for dish in dishes:\n",
    "            if dish in cook_book.keys():\n",
    "                for ingredients in cook_book[dish]:\n",
    "                    x=ingredients['ingredient_name']\n",
    "                    if recipe.get(x, False) == False:\n",
    "                        recipe[x] = {'measure': ingredients['measure'], 'quantity': int(ingredients['quantity']) * person_count }\n",
    "                    else:\n",
    "                            s=recipe[x]['quantity'] + int(ingredients['quantity'])  * person_count\n",
    "                            recipe[x]['quantity'] = s\n",
    "            else:\n",
    "                print(f\"{dish} отсутствует в меню\")\n",
    "        return recipe \n",
    "\n",
    "#get_shop_list_by_dishes(['Омлет', 'Запеченный картофель'], 2) # оба блюда есть с разными ингредиентами\n",
    "#get_shop_list_by_dishes(['Омлет', 'Фахитс'], 2) # одно блюдо есть, другого нет\n",
    "get_shop_list_by_dishes(['Омлет', 'Фахитос'], 2) # оба блюда есть но с повторяющимся ингредиентом\n",
    "#get_shop_list_by_dishes(['Олет', 'Фахитс'], 2) # обоих блюд нет"
   ]
  }
 ],
 "metadata": {
  "kernelspec": {
   "display_name": "Python 3",
   "language": "python",
   "name": "python3"
  },
  "language_info": {
   "codemirror_mode": {
    "name": "ipython",
    "version": 3
   },
   "file_extension": ".py",
   "mimetype": "text/x-python",
   "name": "python",
   "nbconvert_exporter": "python",
   "pygments_lexer": "ipython3",
   "version": "3.11.3"
  }
 },
 "nbformat": 4,
 "nbformat_minor": 2
}
